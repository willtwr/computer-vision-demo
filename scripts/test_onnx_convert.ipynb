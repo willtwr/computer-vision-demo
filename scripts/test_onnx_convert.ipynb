{
 "cells": [
  {
   "cell_type": "code",
   "execution_count": 1,
   "metadata": {},
   "outputs": [],
   "source": [
    "import onnx\n",
    "import torch\n",
    "from transformers import RTDetrForObjectDetection, RTDetrImageProcessor\n",
    "\n",
    "device = \"cuda\" if torch.cuda.is_available() else \"cpu\""
   ]
  },
  {
   "cell_type": "code",
   "execution_count": 2,
   "metadata": {},
   "outputs": [],
   "source": [
    "image_processor = RTDetrImageProcessor.from_pretrained(\"jadechoghari/RT-DETRv2\")\n",
    "image_processor.size = {'height': 480, 'width': 640}\n",
    "rtdetrmodel = RTDetrForObjectDetection.from_pretrained(\"jadechoghari/RT-DETRv2\")"
   ]
  },
  {
   "cell_type": "code",
   "execution_count": 3,
   "metadata": {},
   "outputs": [
    {
     "name": "stderr",
     "output_type": "stream",
     "text": [
      "c:\\Users\\User\\anaconda3\\envs\\cv\\Lib\\site-packages\\transformers\\models\\rt_detr\\modeling_rt_detr_resnet.py:107: TracerWarning: Converting a tensor to a Python boolean might cause the trace to be incorrect. We can't record the data flow of Python values, so this value will be treated as a constant in the future. This means that the trace might not generalize to other inputs!\n",
      "  if num_channels != self.num_channels:\n",
      "c:\\Users\\User\\anaconda3\\envs\\cv\\Lib\\site-packages\\transformers\\models\\rt_detr\\modeling_rt_detr.py:1311: TracerWarning: Converting a tensor to a Python integer might cause the trace to be incorrect. We can't record the data flow of Python values, so this value will be treated as a constant in the future. This means that the trace might not generalize to other inputs!\n",
      "  grid_w = torch.arange(int(width), dtype=dtype, device=device)\n",
      "c:\\Users\\User\\anaconda3\\envs\\cv\\Lib\\site-packages\\transformers\\models\\rt_detr\\modeling_rt_detr.py:1312: TracerWarning: Converting a tensor to a Python integer might cause the trace to be incorrect. We can't record the data flow of Python values, so this value will be treated as a constant in the future. This means that the trace might not generalize to other inputs!\n",
      "  grid_h = torch.arange(int(height), dtype=dtype, device=device)\n",
      "c:\\Users\\User\\anaconda3\\envs\\cv\\Lib\\site-packages\\transformers\\models\\rt_detr\\modeling_rt_detr.py:965: TracerWarning: Converting a tensor to a Python boolean might cause the trace to be incorrect. We can't record the data flow of Python values, so this value will be treated as a constant in the future. This means that the trace might not generalize to other inputs!\n",
      "  if attn_weights.size() != (batch_size * self.num_heads, target_len, source_len):\n",
      "c:\\Users\\User\\anaconda3\\envs\\cv\\Lib\\site-packages\\transformers\\models\\rt_detr\\modeling_rt_detr.py:1001: TracerWarning: Converting a tensor to a Python boolean might cause the trace to be incorrect. We can't record the data flow of Python values, so this value will be treated as a constant in the future. This means that the trace might not generalize to other inputs!\n",
      "  if attn_output.size() != (batch_size * self.num_heads, target_len, self.head_dim):\n",
      "c:\\Users\\User\\anaconda3\\envs\\cv\\Lib\\site-packages\\transformers\\models\\rt_detr\\modeling_rt_detr.py:1855: TracerWarning: torch.as_tensor results are registered as constants in the trace. You can safely ignore this warning if you use this function to create tensors out of constant variables that would be the same every time you call this function. In any other case, this might cause the trace to be incorrect.\n",
      "  spatial_shapes = torch.as_tensor(spatial_shapes_list, dtype=torch.long, device=source_flatten.device)\n",
      "c:\\Users\\User\\anaconda3\\envs\\cv\\Lib\\site-packages\\transformers\\models\\rt_detr\\modeling_rt_detr.py:1877: TracerWarning: Using len to get tensor shape might cause the trace to be incorrect. Recommended usage would be tensor.shape[0]. Passing a tensor of different shape might lead to errors or silently give incorrect results.\n",
      "  batch_size = len(source_flatten)\n",
      "c:\\Users\\User\\anaconda3\\envs\\cv\\Lib\\site-packages\\transformers\\models\\rt_detr\\modeling_rt_detr.py:1746: TracerWarning: torch.tensor results are registered as constants in the trace. You can safely ignore this warning if you use this function to create tensors out of constant variables that would be the same every time you call this function. In any other case, this might cause the trace to be incorrect.\n",
      "  valid_wh = torch.tensor([width, height], device=device).to(dtype)\n",
      "c:\\Users\\User\\anaconda3\\envs\\cv\\Lib\\site-packages\\transformers\\models\\rt_detr\\modeling_rt_detr.py:1755: TracerWarning: torch.tensor results are registered as constants in the trace. You can safely ignore this warning if you use this function to create tensors out of constant variables that would be the same every time you call this function. In any other case, this might cause the trace to be incorrect.\n",
      "  anchors = torch.where(valid_mask, anchors, torch.tensor(torch.finfo(dtype).max, dtype=dtype, device=device))\n",
      "c:\\Users\\User\\anaconda3\\envs\\cv\\Lib\\site-packages\\transformers\\models\\rt_detr\\modeling_rt_detr.py:838: TracerWarning: Converting a tensor to a Python boolean might cause the trace to be incorrect. We can't record the data flow of Python values, so this value will be treated as a constant in the future. This means that the trace might not generalize to other inputs!\n",
      "  if total_elements != sequence_length:\n",
      "c:\\Users\\User\\anaconda3\\envs\\cv\\Lib\\site-packages\\transformers\\models\\rt_detr\\modeling_rt_detr.py:859: TracerWarning: Converting a tensor to a Python boolean might cause the trace to be incorrect. We can't record the data flow of Python values, so this value will be treated as a constant in the future. This means that the trace might not generalize to other inputs!\n",
      "  if num_coordinates == 2:\n",
      "c:\\Users\\User\\anaconda3\\envs\\cv\\Lib\\site-packages\\transformers\\models\\rt_detr\\modeling_rt_detr.py:865: TracerWarning: Converting a tensor to a Python boolean might cause the trace to be incorrect. We can't record the data flow of Python values, so this value will be treated as a constant in the future. This means that the trace might not generalize to other inputs!\n",
      "  elif num_coordinates == 4:\n"
     ]
    }
   ],
   "source": [
    "data = torch.rand(1, 3, 480, 640)\n",
    "rtdetrmodel.eval()\n",
    "\n",
    "torch.onnx.export(\n",
    "    rtdetrmodel,\n",
    "    data,\n",
    "    \"../../model.onnx\",\n",
    "    export_params=True,\n",
    "    opset_version=20,\n",
    "    do_constant_folding=True,\n",
    "    input_names=['images'],\n",
    "    output_names=['logits', 'pred_boxes'],\n",
    ")"
   ]
  },
  {
   "cell_type": "code",
   "execution_count": 4,
   "metadata": {},
   "outputs": [],
   "source": [
    "onnx_model = onnx.load(\"../../model.onnx\")\n",
    "onnx.checker.check_model(onnx_model)"
   ]
  }
 ],
 "metadata": {
  "kernelspec": {
   "display_name": "cv",
   "language": "python",
   "name": "python3"
  },
  "language_info": {
   "codemirror_mode": {
    "name": "ipython",
    "version": 3
   },
   "file_extension": ".py",
   "mimetype": "text/x-python",
   "name": "python",
   "nbconvert_exporter": "python",
   "pygments_lexer": "ipython3",
   "version": "3.11.11"
  }
 },
 "nbformat": 4,
 "nbformat_minor": 2
}

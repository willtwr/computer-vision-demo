{
 "cells": [
  {
   "cell_type": "code",
   "execution_count": 1,
   "metadata": {},
   "outputs": [],
   "source": [
    "import tensorrt as trt"
   ]
  },
  {
   "cell_type": "code",
   "execution_count": null,
   "metadata": {},
   "outputs": [
    {
     "name": "stdout",
     "output_type": "stream",
     "text": [
      "Model images shape: (1, 3, 480, 640) DataType.FLOAT\n",
      "Model logits shape: (1, 300, 80) DataType.FLOAT\n",
      "Model pred_boxes shape: (1, 300, 4) DataType.FLOAT\n",
      "Model onnx::MatMul_2779 shape: (1, 300, 256) DataType.FLOAT\n",
      "Model 2817 shape: (1, 3, 300, 256) DataType.FLOAT\n",
      "Model onnx::Gather_2831 shape: (1, 3, 300, 80) DataType.FLOAT\n",
      "Model onnx::Gather_2824 shape: (1, 3, 300, 4) DataType.FLOAT\n",
      "Model input.332 shape: (1, 256, 60, 80) DataType.FLOAT\n",
      "Model input.424 shape: (1, 256, 30, 40) DataType.FLOAT\n",
      "Model input.516 shape: (1, 256, 15, 20) DataType.FLOAT\n",
      "Model reference_points_unact shape: (1, 300, 4) DataType.FLOAT\n",
      "Model 1568 shape: (1, 300, 80) DataType.FLOAT\n",
      "Model 1548 shape: (1, 300, 4) DataType.FLOAT\n",
      "Model onnx::ReduceMax_1506 shape: (1, 6300, 80) DataType.FLOAT\n",
      "Model onnx::GatherElements_1518 shape: (1, 6300, 4) DataType.FLOAT\n"
     ]
    }
   ],
   "source": [
    "trt_logger = trt.Logger(trt.Logger.WARNING)\n",
    "builder = trt.Builder(trt_logger)\n",
    "\n",
    "config = builder.create_builder_config()\n",
    "config.set_memory_pool_limit(trt.MemoryPoolType.WORKSPACE, (1 << 50))\n",
    "config.set_flag(trt.BuilderFlag.FP16)\n",
    "# config.set_flag(trt.BuilderFlag.INT8)\n",
    "config.default_device_type = trt.DeviceType.GPU\n",
    "\n",
    "flag = 1 << int(trt.NetworkDefinitionCreationFlag.EXPLICIT_BATCH)\n",
    "network = builder.create_network(flag)\n",
    "\n",
    "parser = trt.OnnxParser(network, trt_logger)\n",
    "path_onnx_model = \"../../model.onnx\"\n",
    "with open(path_onnx_model, \"rb\") as f:\n",
    "    if not parser.parse(f.read()):\n",
    "        print(f\"ERROR: Failed to parse the ONNX file {path_onnx_model}\")\n",
    "        for error in range(parser.num_errors):\n",
    "            print(parser.get_error(error))\n",
    "\n",
    "inputs = [network.get_input(i) for i in range(network.num_inputs)]\n",
    "outputs = [network.get_output(i) for i in range(network.num_outputs)]\n",
    "for input in inputs:\n",
    "    print(f\"Model {input.name} shape: {input.shape} {input.dtype}\")\n",
    "    \n",
    "for output in outputs:\n",
    "    print(f\"Model {output.name} shape: {output.shape} {output.dtype}\")\n",
    "\n",
    "engine_bytes = builder.build_serialized_network(network, config)\n",
    "with open(\"../../model.trt\", 'wb') as f:\n",
    "    f.write(bytearray(engine_bytes))"
   ]
  }
 ],
 "metadata": {
  "kernelspec": {
   "display_name": "cv",
   "language": "python",
   "name": "python3"
  },
  "language_info": {
   "codemirror_mode": {
    "name": "ipython",
    "version": 3
   },
   "file_extension": ".py",
   "mimetype": "text/x-python",
   "name": "python",
   "nbconvert_exporter": "python",
   "pygments_lexer": "ipython3",
   "version": "3.11.11"
  }
 },
 "nbformat": 4,
 "nbformat_minor": 2
}

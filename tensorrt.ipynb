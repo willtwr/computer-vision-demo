{
 "cells": [
  {
   "cell_type": "code",
   "execution_count": 1,
   "metadata": {},
   "outputs": [],
   "source": [
    "import tensorrt as trt\n",
    "import onnx"
   ]
  },
  {
   "cell_type": "code",
   "execution_count": 2,
   "metadata": {},
   "outputs": [],
   "source": [
    "trt_logger = trt.Logger(trt.Logger.WARNING)\n",
    "trt.init_libnvinfer_plugins(trt_logger, namespace=\"\")\n",
    "builder = trt.Builder(trt_logger)"
   ]
  },
  {
   "cell_type": "code",
   "execution_count": 3,
   "metadata": {},
   "outputs": [],
   "source": [
    "config = builder.create_builder_config()\n",
    "config.set_memory_pool_limit(trt.MemoryPoolType.WORKSPACE, 16 * (2**30))\n",
    "config.flags |= 1 << int(trt.BuilderFlag.FP16)\n",
    "config.default_device_type = trt.DeviceType.GPU"
   ]
  },
  {
   "cell_type": "code",
   "execution_count": 4,
   "metadata": {},
   "outputs": [],
   "source": [
    "network = builder.create_network(1)\n",
    "model_onnx = onnx.load(\"rt-detr_model.onnx\")"
   ]
  },
  {
   "cell_type": "code",
   "execution_count": 5,
   "metadata": {},
   "outputs": [
    {
     "data": {
      "text/plain": [
       "True"
      ]
     },
     "execution_count": 5,
     "metadata": {},
     "output_type": "execute_result"
    }
   ],
   "source": [
    "parser = trt.OnnxParser(network, trt_logger)\n",
    "parser.parse(model_onnx.SerializeToString())"
   ]
  },
  {
   "cell_type": "code",
   "execution_count": 6,
   "metadata": {},
   "outputs": [],
   "source": [
    "inputs = [network.get_input(i) for i in range(network.num_inputs)]\n",
    "outputs = [network.get_output(i) for i in range(network.num_outputs)]\n",
    "\n",
    "for input in inputs:\n",
    "    batch_size = input.shape[0]"
   ]
  },
  {
   "cell_type": "code",
   "execution_count": 7,
   "metadata": {},
   "outputs": [],
   "source": [
    "config.set_flag(trt.BuilderFlag.FP16)\n",
    "# config.set_flag(trt.BuilderFlag.INT8)\n",
    "engine_bytes = builder.build_serialized_network(network, config)\n",
    "with open(\"model.trt\", 'wb') as f:\n",
    "    f.write(bytearray(engine_bytes))"
   ]
  },
  {
   "cell_type": "code",
   "execution_count": null,
   "metadata": {},
   "outputs": [],
   "source": []
  }
 ],
 "metadata": {
  "kernelspec": {
   "display_name": "cv",
   "language": "python",
   "name": "python3"
  },
  "language_info": {
   "codemirror_mode": {
    "name": "ipython",
    "version": 3
   },
   "file_extension": ".py",
   "mimetype": "text/x-python",
   "name": "python",
   "nbconvert_exporter": "python",
   "pygments_lexer": "ipython3",
   "version": "3.11.11"
  }
 },
 "nbformat": 4,
 "nbformat_minor": 2
}
